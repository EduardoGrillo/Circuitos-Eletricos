{
  "nbformat": 4,
  "nbformat_minor": 0,
  "metadata": {
    "colab": {
      "provenance": []
    },
    "kernelspec": {
      "name": "python3",
      "display_name": "Python 3"
    },
    "language_info": {
      "name": "python"
    }
  },
  "cells": [
    {
      "cell_type": "code",
      "execution_count": 7,
      "metadata": {
        "colab": {
          "base_uri": "https://localhost:8080/",
          "height": 324
        },
        "id": "ZKLpItzeoLgt",
        "outputId": "04d29d0c-208b-490e-ac89-855f2039ae61"
      },
      "outputs": [
        {
          "output_type": "display_data",
          "data": {
            "text/plain": [
              "<IPython.core.display.Markdown object>"
            ],
            "text/markdown": "$$\n\\begin{align}\n    &V_a = 18.00V\\\\\n    &V_b = 22.00V\\\\\n    &V_c = 20.00V\\\\\n    &V_d = 20.00V\\\\\n    &V_e = 80.00V\\\\\n    &V_f = 60.00V\\\\\n    &V_g = 190.00V\\\\\n    &V_h = -30.00V\\\\\n    &V_i = 90.00V\\\\\n    &i_1 = 2.00A\\\\\n    &i_2 = -6.00A\\\\\n    &i_3 = 3.00A\\\\\n    &i_4 = -9.00A\\\\\n    &i_5 = 5.00A\\\\\n\\end{align}\n$$\n"
          },
          "metadata": {}
        }
      ],
      "source": [
        "from sympy import *\n",
        "\n",
        "import numpy as np\n",
        "import pandas as pd\n",
        "\n",
        "A = np.array([\n",
        "    [1] + [0 for i in range(8)] + [-9] + [0 for i in range(4)],\n",
        "    [0, 1] + [0 for i in range(7)] + [-11] + [0 for i in range(4)],\n",
        "    [0, 0, 1] + [0 for i in range(6)] + [-10] + [0 for i in range(4)],\n",
        "    [0 for i in range(3)] + [1] + [0 for i in range(9)] + [-4],\n",
        "    [0 for i in range(4)] + [1] + [0 for i in range(8)] + [-16],\n",
        "    [0 for i in range(5)] + [1] + [0 for i in range(8)],\n",
        "    [0 for i in range(7)] + [1, 0, 0, -5] + [0 for i in range(3)],\n",
        "    [0 for i in range(8)] + [1, 0, 0, -30, 0, 0],\n",
        "    [0 for i in range(9)] + [1, 1, 0, 0, 0],\n",
        "    [0 for i in range(10)] + [1, -1, -1, 0],\n",
        "    [0 for i in range(9)] + [-1, 0, -1, 0, 1],\n",
        "    [0 for i in range(6)] + [-1, 0, 0, 0, -5, 0, 0, 0],\n",
        "    [0 for i in range(6)] + [1, 0, 0, 0, 0, -30, 0, -20],\n",
        "    [0 for i in range(9)] + [-30, 5, 30, 0, 0]\n",
        "])\n",
        "\n",
        "B = np.array(\n",
        "    [[0] for i in range(5)] + [[60], [0], [0], [-4], [0], [0], [-160], [0], [0]]\n",
        ")\n",
        "\n",
        "nomes_variaveis = ['V_a', 'V_b', 'V_c', 'V_d', 'V_e', 'V_f', 'V_g', 'V_h', 'V_i', 'i_1', 'i_2', 'i_3', 'i_4', 'i_5']\n",
        "\n",
        "resultados = np.linalg.solve(A, B).ravel()\n",
        "\n",
        "from IPython.display import display, Markdown, Latex\n",
        "\n",
        "unidade = {}\n",
        "# 1. Definindo as unidades das variáveis de tensão como Volt\n",
        "for nome_variavel in nomes_variaveis[0:9]:\n",
        "    unidade[nome_variavel] = 'V'\n",
        "\n",
        "# 2. Definindo as unidades das variáveis de corrente como Ampére\n",
        "for nome_variavel in nomes_variaveis[9:14]:\n",
        "    unidade[nome_variavel] = 'A'\n",
        "\n",
        "# criando string para armazenar o resultado em formato latex\n",
        "\n",
        "resultado_tex = '''$$\n",
        "\\\\begin{align}\n",
        "'''\n",
        "\n",
        "# adicionando cada resultado em resultado_tex em formato latex\n",
        "\n",
        "for nome_variavel, resultado in zip(nomes_variaveis, resultados):\n",
        "    resultado_tex += '    &{} = {:.2f}{}\\\\\\\\\\n'.format(nome_variavel, resultado, unidade[nome_variavel])\n",
        "\n",
        "# finalizando a string\n",
        "\n",
        "resultado_tex += '''\\end{align}\n",
        "$$\n",
        "'''\n",
        "display(Markdown(resultado_tex))\n"
      ]
    }
  ]
}